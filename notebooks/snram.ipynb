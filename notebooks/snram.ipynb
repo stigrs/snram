{
 "cells": [
  {
   "cell_type": "markdown",
   "metadata": {},
   "source": [
    "# Suite of Network Risk Assessment Methods (SNRAM)"
   ]
  },
  {
   "cell_type": "code",
   "execution_count": 1,
   "metadata": {},
   "outputs": [],
   "source": [
    "from snram.topology import NetworkTopology\n",
    "from snram.network_risk import NetworkRisk\n",
    "from snram.stackelberg import stackelberg"
   ]
  },
  {
   "cell_type": "markdown",
   "metadata": {},
   "source": [
    "## Input Parameters"
   ]
  },
  {
   "cell_type": "code",
   "execution_count": 2,
   "metadata": {},
   "outputs": [],
   "source": [
    "xlsx_file = \"../examples/max-flow.xlsx\""
   ]
  },
  {
   "cell_type": "markdown",
   "metadata": {},
   "source": [
    "## Network Topology"
   ]
  },
  {
   "cell_type": "code",
   "execution_count": 3,
   "metadata": {},
   "outputs": [
    {
     "data": {
      "image/png": "[encoded data removed]",
      "text/plain": [
       "<Figure size 432x288 with 1 Axes>"
      ]
     },
     "metadata": {},
     "output_type": "display_data"
    }
   ],
   "source": [
    "topology = NetworkTopology(xlsx_file)\n",
    "topology.plot()"
   ]
  },
  {
   "cell_type": "markdown",
   "metadata": {},
   "source": [
    "## Network Risk Assessment"
   ]
  },
  {
   "cell_type": "code",
   "execution_count": 4,
   "metadata": {},
   "outputs": [
    {
     "name": "stdout",
     "output_type": "stream",
     "text": [
      "Network Risk Assessment:\n",
      "----------------------------------------------------------------------\n",
      "Node\t\tT\tV\tC\tR\n",
      "----------------------------------------------------------------------\n",
      "Source      \t3\t2\t3\t18\n",
      "B           \t5\t4\t4\t80\n",
      "C           \t5\t2\t2\t20\n",
      "D           \t3\t3\t5\t45\n",
      "Target      \t3\t5\t1\t15\n",
      "----------------------------------------------------------------------\n",
      "----------------------------------------------------------------------\n",
      "Link\t\tT\tV\tC\tR\n",
      "----------------------------------------------------------------------\n",
      "(Source, B) \t3\t4\t3\t36\n",
      "(Source, C) \t3\t3\t2\t18\n",
      "(C, B)      \t3\t4\t4\t48\n",
      "(B, Target) \t5\t4\t4\t80\n",
      "(C, D)      \t5\t5\t2\t50\n",
      "(D, Target) \t3\t4\t3\t36\n",
      "----------------------------------------------------------------------\n",
      "T = Threat (1-5)\n",
      "V = Vulnerability (1-5)\n",
      "C = Consequence (1-5)\n",
      "R = Risk (T x V x C)\n",
      "\n",
      "Critical Assets:\n",
      "----------------------------------------------------------------------\n",
      "                                 Index\t\tValue\n",
      "----------------------------------------------------------------------\n",
      "Node with largest threat:        B\t\t5\n",
      "Node with largest vulnerability: Target\t\t5\n",
      "Node with largest consequence:   D\t\t5\n",
      "Node with largest risk:          B\t\t80\n",
      "\n",
      "Link with largest threat:        (B, Target) \t5\n",
      "Link with largest vulnerability: (C, D)      \t5\n",
      "Link with largest consequence:   (B, Target) \t4\n",
      "Link with largest risk:          (B, Target) \t80\n",
      "----------------------------------------------------------------------\n",
      "Articulation points: None\n"
     ]
    }
   ],
   "source": [
    "network_risk = NetworkRisk(topology)\n",
    "network_risk.risk_assessment()\n",
    "network_risk.critical_assets()"
   ]
  },
  {
   "cell_type": "markdown",
   "metadata": {},
   "source": [
    "## Stackelberg Game"
   ]
  },
  {
   "cell_type": "code",
   "execution_count": 5,
   "metadata": {},
   "outputs": [
    {
     "name": "stdout",
     "output_type": "stream",
     "text": [
      "\n",
      "======================================================================\n",
      "                                                                      \n",
      "                   Stackelberg Game: Risk Reduction                   \n",
      "                                                                      \n",
      "======================================================================\n",
      "\n",
      "Minimise Risk - Maximise Threat for Nodes:\n",
      "----------------------------------------------------------------------\n",
      "#\tR_sum(V)\tR_sum(C)\tR_sum(T)\n",
      "----------------------------------------------------------------------\n",
      "0\t175\t\t166\t\t172\n",
      "1\t152\t\t137\t\t149\n",
      "2\t146\t\t134\t\t137\n",
      "3\t122\t\t110\t\t116\n",
      "4\t108\t\t98\t\t102\n",
      "5\t98\t\t88\t\t90\n",
      "6\t80\t\t70\t\t70\n",
      "----------------------------------------------------------------------\n",
      "Minimise Risk - Maximise Threat for Links:\n",
      "----------------------------------------------------------------------\n",
      "#\tR_sum(V)\tR_sum(C)\tR_sum(T)\n",
      "----------------------------------------------------------------------\n",
      "0\t258\t\t238\t\t250\n",
      "1\t235\t\t223\t\t229\n",
      "2\t217\t\t202\t\t214\n",
      "3\t202\t\t190\t\t202\n",
      "4\t190\t\t178\t\t184\n",
      "5\t174\t\t162\t\t168\n",
      "6\t158\t\t143\t\t149\n",
      "7\t139\t\t124\t\t130\n",
      "8\t120\t\t105\t\t105\n",
      "----------------------------------------------------------------------\n",
      "\n",
      "Network Risk Assessment:\n",
      "----------------------------------------------------------------------\n",
      "Node\t\tT\tV\tC\tR\n",
      "----------------------------------------------------------------------\n",
      "Source      \t5\t1\t2\t10\n",
      "B           \t5\t2\t1\t10\n",
      "C           \t5\t2\t2\t20\n",
      "D           \t5\t2\t2\t20\n",
      "Target      \t5\t2\t1\t10\n",
      "----------------------------------------------------------------------\n",
      "----------------------------------------------------------------------\n",
      "Link\t\tT\tV\tC\tR\n",
      "----------------------------------------------------------------------\n",
      "(Source, B) \t5\t2\t2\t20\n",
      "(Source, C) \t5\t3\t1\t15\n",
      "(C, B)      \t5\t2\t2\t20\n",
      "(B, Target) \t5\t3\t1\t15\n",
      "(C, D)      \t5\t2\t2\t20\n",
      "(D, Target) \t5\t3\t1\t15\n",
      "----------------------------------------------------------------------\n",
      "T = Threat (1-5)\n",
      "V = Vulnerability (1-5)\n",
      "C = Consequence (1-5)\n",
      "R = Risk (T x V x C)\n",
      "\n",
      "Critical Assets:\n",
      "----------------------------------------------------------------------\n",
      "                                 Index\t\tValue\n",
      "----------------------------------------------------------------------\n",
      "Node with largest threat:        C\t\t5\n",
      "Node with largest vulnerability: C\t\t2\n",
      "Node with largest consequence:   C\t\t2\n",
      "Node with largest risk:          C\t\t20\n",
      "\n",
      "Link with largest threat:        (Source, B) \t5\n",
      "Link with largest vulnerability: (Source, C) \t3\n",
      "Link with largest consequence:   (Source, B) \t2\n",
      "Link with largest risk:          (Source, B) \t20\n",
      "----------------------------------------------------------------------\n",
      "Articulation points: None\n"
     ]
    }
   ],
   "source": [
    "res = stackelberg(topology)"
   ]
  },
  {
   "cell_type": "code",
   "execution_count": null,
   "metadata": {},
   "outputs": [],
   "source": []
  }
 ],
 "metadata": {
  "kernelspec": {
   "display_name": "Python 3",
   "language": "python",
   "name": "python3"
  },
  "language_info": {
   "codemirror_mode": {
    "name": "ipython",
    "version": 3
   },
   "file_extension": ".py",
   "mimetype": "text/x-python",
   "name": "python",
   "nbconvert_exporter": "python",
   "pygments_lexer": "ipython3",
   "version": "3.8.3"
  }
 },
 "nbformat": 4,
 "nbformat_minor": 4
}
