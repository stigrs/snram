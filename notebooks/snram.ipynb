{
 "cells": [
  {
   "cell_type": "markdown",
   "metadata": {},
   "source": [
    "# Suite of Network Risk Assessment Methods (SNRAM)"
   ]
  },
  {
   "cell_type": "code",
   "execution_count": 1,
   "metadata": {},
   "outputs": [],
   "source": [
    "from snram.topology import NetworkTopology\n",
    "from snram.network_risk import NetworkRisk"
   ]
  },
  {
   "cell_type": "markdown",
   "metadata": {},
   "source": [
    "## Input Parameters"
   ]
  },
  {
   "cell_type": "code",
   "execution_count": 2,
   "metadata": {},
   "outputs": [],
   "source": [
    "xlsx_file = \"../examples/max-flow.xlsx\""
   ]
  },
  {
   "cell_type": "markdown",
   "metadata": {},
   "source": [
    "## Network Topology"
   ]
  },
  {
   "cell_type": "code",
   "execution_count": 3,
   "metadata": {},
   "outputs": [
    {
     "data": {
      "image/png": "[encoded data removed]",
      "text/plain": [
       "<Figure size 432x288 with 1 Axes>"
      ]
     },
     "metadata": {},
     "output_type": "display_data"
    }
   ],
   "source": [
    "topology = NetworkTopology(xlsx_file)\n",
    "topology.plot()"
   ]
  },
  {
   "cell_type": "markdown",
   "metadata": {},
   "source": [
    "## Network Risk Assessment"
   ]
  },
  {
   "cell_type": "code",
   "execution_count": 4,
   "metadata": {},
   "outputs": [
    {
     "name": "stdout",
     "output_type": "stream",
     "text": [
      "Network Risk Assessment:\n",
      "----------------------------------------------------------------------\n",
      "Node\t\tT\tV\tC\tR\n",
      "----------------------------------------------------------------------\n",
      "Source      \t3\t2\t3\t18\n",
      "B           \t5\t4\t4\t80\n",
      "C           \t5\t2\t2\t20\n",
      "D           \t3\t3\t5\t45\n",
      "Target      \t3\t5\t1\t15\n",
      "----------------------------------------------------------------------\n",
      "----------------------------------------------------------------------\n",
      "Link\t\tT\tV\tC\tR\n",
      "----------------------------------------------------------------------\n",
      "(Source, B) \t3\t4\t3\t36\n",
      "(Source, C) \t3\t3\t2\t18\n",
      "(C, B)      \t3\t4\t4\t48\n",
      "(B, Target) \t5\t4\t4\t80\n",
      "(C, D)      \t5\t5\t2\t50\n",
      "(D, Target) \t3\t4\t3\t36\n",
      "----------------------------------------------------------------------\n",
      "T = Threat (1-5)\n",
      "V = Vulnerability (1-5)\n",
      "C = Consequence (1-5)\n",
      "R = Risk (T x V x C)\n",
      "\n",
      "Critical Assets:\n",
      "----------------------------------------------------------------------\n",
      "                                 Index\t\tValue\n",
      "----------------------------------------------------------------------\n",
      "Node with largest threat:        Target\t\t3\n",
      "Node with largest vulnerability: Target\t\t5\n",
      "Node with largest consequence:   D\t\t5\n",
      "Node with largest risk:          B\t\t80\n",
      "\n",
      "Link with largest threat:         (C, B)      \t3\n",
      "Link with largest vulnerability:  (C, D)      \t5\n",
      "Link with largest consequence:    (B, Target) \t4\n",
      "Link with largest risk:           (B, Target) \t80\n",
      "----------------------------------------------------------------------\n",
      "\n"
     ]
    }
   ],
   "source": [
    "network_risk = NetworkRisk(topology)\n",
    "network_risk.risk_assessment()\n",
    "network_risk.critical_assets()"
   ]
  },
  {
   "cell_type": "code",
   "execution_count": null,
   "metadata": {},
   "outputs": [],
   "source": []
  }
 ],
 "metadata": {
  "kernelspec": {
   "display_name": "Python 3",
   "language": "python",
   "name": "python3"
  },
  "language_info": {
   "codemirror_mode": {
    "name": "ipython",
    "version": 3
   },
   "file_extension": ".py",
   "mimetype": "text/x-python",
   "name": "python",
   "nbconvert_exporter": "python",
   "pygments_lexer": "ipython3",
   "version": "3.6.5"
  }
 },
 "nbformat": 4,
 "nbformat_minor": 4
}
